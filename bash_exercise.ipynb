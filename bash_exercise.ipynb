{
 "cells": [
  {
   "cell_type": "code",
   "execution_count": 1,
   "id": "380d6161",
   "metadata": {
    "ExecuteTime": {
     "end_time": "2021-05-24T20:38:31.143936Z",
     "start_time": "2021-05-24T20:38:31.132257Z"
    }
   },
   "outputs": [
    {
     "data": {
      "text/markdown": [
       "# Bash Adventure\n",
       "\n",
       "**This activity focuses on Bash Fundamentals. The following skills will be used:**\n",
       "- Running a provided bash command.\n",
       "- Running a .py file.\n",
       "- Printing the contents of a directory.\n",
       "- Creating a new directory.\n",
       "- Navigating a directory.\n",
       "- Making an edit to a text file using `vim`.\n",
       "- Moving a file.\n",
       "\n",
       "\n",
       "**If you are running this lab in Illumidesk, at the end of these instructions, we provide a link that will take you to a terminal window. If you are running the lab locally, you will complete the lab in your local terminal window.**\n",
       "\n",
       "\n",
       "## Once you have a terminal window open, please complete the following tasks:\n",
       "\n",
       "\n",
       ">*Automated tests have been provided at the end of this notebook to check your work. For this lab, the tests will be checking to see if folders and files have been placed in the correct location. Be sure to carefully follow the instructions below!*\n",
       "\n",
       "### Task 1\n",
       "1. run the command `cd /Users/joelcollins/Documents/temp/bash_adventure` (Please notify an instructor if this command does not work)\n",
       "2. run the command `setup.sh` (Don't worry too much about this step. We're just installing vim onto your illumidesk server.\n",
       "3. Use the `ls` command to print the contents of the directory.\n",
       "4. run the .py file called `begin_mission.py` by running the command `python begin_mission.py`\n",
       "5. Find the README.md file.\n",
       "6. Add the phrase \"Fear not the terminal.\" to the readme file.\n",
       "\n",
       "### Task 2\n",
       "Once you have made an edit to the README.md file:\n",
       "1. Create a new folder called \"buried_treasure_chest\".\n",
       "2. Move the README.md file into that folder.\n",
       "\n",
       "## Begin the adventure\n",
       "\n",
       "If you are running this lab on your local computer, open a terminal window, and begin task 1.\n",
       "\n",
       "\n",
       "<a href=\"/user/x/terminals/1\" target=\"_blank\"><b>If you are funning this lab on Illumidesk, click here to begin!</b></a>\n",
       "> **NOTE:** We have had issues with this functionality in Illumidesk. If the screen that appears does not have a black square, please notify and instructor. We will have to open a terminal window in your jupyter file system and then begin with the first task. If the terminal page opens, use your mouse to click into the terminal window, and then hit the enter key.\n",
       "> - (This is not typically a requirement for running commands in terminal, but is necessary when running this lab on an Illumidesk server!)\n",
       "    \n",
       "    "
      ],
      "text/plain": [
       "<IPython.core.display.Markdown object>"
      ]
     },
     "metadata": {},
     "output_type": "display_data"
    }
   ],
   "source": [
    "# Run this cell to generate the lab instructions!\n",
    "from instructions import instructions\n",
    "instructions()"
   ]
  },
  {
   "cell_type": "markdown",
   "id": "17f74fb9",
   "metadata": {},
   "source": [
    "# Test your work\n",
    "\n",
    "Run the cell below, to test whether or not you completed the tasks correctly!"
   ]
  },
  {
   "cell_type": "code",
   "execution_count": null,
   "id": "576c3545",
   "metadata": {
    "ExecuteTime": {
     "end_time": "2021-05-23T21:40:29.192027Z",
     "start_time": "2021-05-23T21:40:29.175506Z"
    }
   },
   "outputs": [],
   "source": [
    "from adventure_tests import test_adventure\n",
    "test_adventure()"
   ]
  }
 ],
 "metadata": {
  "kernelspec": {
   "display_name": "Python 3",
   "language": "python",
   "name": "python3"
  },
  "language_info": {
   "codemirror_mode": {
    "name": "ipython",
    "version": 3
   },
   "file_extension": ".py",
   "mimetype": "text/x-python",
   "name": "python",
   "nbconvert_exporter": "python",
   "pygments_lexer": "ipython3",
   "version": "3.7.4"
  },
  "toc": {
   "base_numbering": 1,
   "nav_menu": {},
   "number_sections": false,
   "sideBar": true,
   "skip_h1_title": false,
   "title_cell": "Table of Contents",
   "title_sidebar": "Contents",
   "toc_cell": false,
   "toc_position": {},
   "toc_section_display": true,
   "toc_window_display": false
  }
 },
 "nbformat": 4,
 "nbformat_minor": 5
}
