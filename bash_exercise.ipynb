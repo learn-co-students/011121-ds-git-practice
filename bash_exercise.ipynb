{
 "cells": [
  {
   "cell_type": "markdown",
   "id": "bf0e8d0d",
   "metadata": {},
   "source": [
    "**If you are running this lab in illumidesk, remove the hashtags at the begining of each line in the following cell and run it!**"
   ]
  },
  {
   "cell_type": "code",
   "execution_count": null,
   "id": "53a9b18d",
   "metadata": {},
   "outputs": [],
   "source": [
    "#!pip install pyvim\n",
    "#!alias vim=pyvim"
   ]
  },
  {
   "cell_type": "code",
   "execution_count": null,
   "id": "380d6161",
   "metadata": {
    "ExecuteTime": {
     "end_time": "2021-05-23T21:39:43.963606Z",
     "start_time": "2021-05-23T21:39:43.951989Z"
    }
   },
   "outputs": [],
   "source": [
    "# Run this cell to generate the lab instructions!\n",
    "from instructions import instructions\n",
    "instructions()"
   ]
  },
  {
   "cell_type": "markdown",
   "id": "17f74fb9",
   "metadata": {},
   "source": [
    "# Test your work\n",
    "\n",
    "Run the cell below, to test whether or not you completed the tasks correctly!"
   ]
  },
  {
   "cell_type": "code",
   "execution_count": null,
   "id": "576c3545",
   "metadata": {
    "ExecuteTime": {
     "end_time": "2021-05-23T21:40:29.192027Z",
     "start_time": "2021-05-23T21:40:29.175506Z"
    }
   },
   "outputs": [],
   "source": [
    "from adventure_tests import test_adventure\n",
    "test_adventure()"
   ]
  }
 ],
 "metadata": {
  "kernelspec": {
   "display_name": "Python 3",
   "language": "python",
   "name": "python3"
  },
  "language_info": {
   "codemirror_mode": {
    "name": "ipython",
    "version": 3
   },
   "file_extension": ".py",
   "mimetype": "text/x-python",
   "name": "python",
   "nbconvert_exporter": "python",
   "pygments_lexer": "ipython3",
   "version": "3.7.4"
  },
  "toc": {
   "base_numbering": 1,
   "nav_menu": {},
   "number_sections": false,
   "sideBar": true,
   "skip_h1_title": false,
   "title_cell": "Table of Contents",
   "title_sidebar": "Contents",
   "toc_cell": false,
   "toc_position": {},
   "toc_section_display": true,
   "toc_window_display": false
  }
 },
 "nbformat": 4,
 "nbformat_minor": 5
}
